{
 "cells": [
  {
   "cell_type": "code",
   "execution_count": 21,
   "id": "7ca5d6a8",
   "metadata": {
    "scrolled": true
   },
   "outputs": [
    {
     "name": "stdout",
     "output_type": "stream",
     "text": [
      "3\n",
      "5\n",
      "2\n",
      "3\n",
      "1 1 1 1 0\n",
      "\n",
      "2 2 2 2 1\n",
      "\n",
      "3 3 3 3 2\n",
      "\n",
      "4 4 4 4 0\n",
      "\n",
      "5 5 5 5 1\n",
      "\n",
      "\n"
     ]
    }
   ],
   "source": [
    "def frontend():\n",
    "    colors = [1, 2, 3, 4, 5, 6]\n",
    "    a1 = int(input())\n",
    "    a2 = int(input())\n",
    "    a3 = int(input())\n",
    "    a4 = int(input())\n",
    "    arr = [a1, a2, a3, a4]\n",
    "    lis = []\n",
    "    arrc = []\n",
    "    for color in colors:\n",
    "        c=0\n",
    "        if sum(arrc) < 4:\n",
    "            for i in range(4):\n",
    "                print(color, end = \" \")\n",
    "            \n",
    "            for i in arr:\n",
    "                if i == color:\n",
    "                    c+=1\n",
    "            print(c)\n",
    "            \n",
    "        arrc.append(c)\n",
    "        print(\"\")\n",
    "    answers = [\n",
    "        [1, arrc[0]],\n",
    "        [2, arrc[1]],\n",
    "        [3, arrc[2]],\n",
    "        [4, arrc[3]],\n",
    "        [5, arrc[4]],\n",
    "        [6, arrc[5]],\n",
    "    ]\n",
    "    ans = []\n",
    "    for i in answers:\n",
    "        if i[1]==1:\n",
    "            ans.append(i[0])\n",
    "    answers = []\n",
    "    for i in ans:\n",
    "        for j in ans:\n",
    "            if j!=i:\n",
    "                for k in ans:\n",
    "                    if k!=j and k!=i:\n",
    "                        for l in ans:\n",
    "                            if l!=k and l!=j and l!= i:\n",
    "                                print(i,j,k,l)\n",
    "                                a=[i,j,k,l]\n",
    "                                answers.append(a)\n",
    "                                if a == arr:\n",
    "                                    print(\"SUCСESS\")\n",
    "                            else:\n",
    "                                a=[]\n",
    "                    else:\n",
    "                        a=[]\n",
    "            else:\n",
    "                a=[]\n",
    "                                \n",
    "frontend()"
   ]
  },
  {
   "cell_type": "code",
   "execution_count": 89,
   "id": "cf2d7cee",
   "metadata": {},
   "outputs": [],
   "source": [
    "def player(array, answer):\n",
    "    v=0\n",
    "    v2=0\n",
    "    for i in range(len(array)-1):\n",
    "        if array[i] == answer[i]:\n",
    "            v += 1\n",
    "            array.remove(array[i])\n",
    "            answer.remove(answer[i])\n",
    "    for a in range(3):\n",
    "        for b in answer:\n",
    "            for c in array:\n",
    "                if b==c:\n",
    "                    v2+=1\n",
    "                    array.remove(c)\n",
    "                    answer.remove(b)\n",
    "                    break\n",
    "    return [v, v2]"
   ]
  },
  {
   "cell_type": "code",
   "execution_count": 90,
   "id": "9678d805",
   "metadata": {},
   "outputs": [
    {
     "data": {
      "text/plain": [
       "[1, 0]"
      ]
     },
     "execution_count": 90,
     "metadata": {},
     "output_type": "execute_result"
    }
   ],
   "source": [
    "player([1,1,1,1], [1,2,3,4])"
   ]
  },
  {
   "cell_type": "code",
   "execution_count": 94,
   "id": "e6fca97b",
   "metadata": {},
   "outputs": [
    {
     "name": "stdout",
     "output_type": "stream",
     "text": [
      "3\n",
      "3\n",
      "4\n",
      "2\n",
      "1 1 1 1 0\n",
      "\n",
      "2 2 2 2 1\n",
      "\n",
      "3 3 3 3 2\n",
      "\n",
      "4 4 4 4 1\n",
      "\n",
      "\n",
      "\n",
      "2 3 3 4\n",
      "\n",
      "2 3 4 3\n",
      "\n",
      "2 4 3 3\n",
      "\n",
      "3 2 3 4\n",
      "\n",
      "3 2 4 3\n",
      "\n",
      "3 3 2 4\n",
      "\n",
      "3 3 4 2\n",
      "SUCCESS\n"
     ]
    }
   ],
   "source": [
    "def frontend():\n",
    "    colors = [1, 2, 3, 4, 5, 6]\n",
    "    a1 = int(input())\n",
    "    a2 = int(input())\n",
    "    a3 = int(input())\n",
    "    a4 = int(input())\n",
    "    arr = [a1, a2, a3, a4]\n",
    "    lis = []\n",
    "    arrc = []\n",
    "    for color in colors:\n",
    "        c=0\n",
    "        if sum(arrc) < 4:\n",
    "            for i in range(4):\n",
    "                print(color, end = \" \")\n",
    "            \n",
    "            for i in arr:\n",
    "                if i == color:\n",
    "                    c+=1\n",
    "            print(c)\n",
    "            \n",
    "        arrc.append(c)\n",
    "        print(\"\")\n",
    "    answers = [\n",
    "        [1, arrc[0]],\n",
    "        [2, arrc[1]],\n",
    "        [3, arrc[2]],\n",
    "        [4, arrc[3]],\n",
    "        [5, arrc[4]],\n",
    "        [6, arrc[5]],\n",
    "    ]\n",
    "    m=[]\n",
    "    for i in answers:\n",
    "        for j in range(i[1]):\n",
    "            m.append(i[0])\n",
    "    answers = m\n",
    "    import itertools\n",
    "    perm_set = itertools.permutations(answers) \n",
    "    bu = []\n",
    "    for i in perm_set:\n",
    "        ar = [i[0],i[1],i[2],i[3]]\n",
    "        if ar in bu:\n",
    "            t=1\n",
    "        else:\n",
    "            print(f'{ar[0]} {ar[1]} {ar[2]} {ar[3]}')\n",
    "            bu.append(ar)\n",
    "            if ar == arr:\n",
    "                print(\"SUCCESS\")\n",
    "                break\n",
    "            print(\"\")\n",
    "frontend()"
   ]
  },
  {
   "cell_type": "code",
   "execution_count": null,
   "id": "7952c7ca",
   "metadata": {},
   "outputs": [],
   "source": []
  }
 ],
 "metadata": {
  "kernelspec": {
   "display_name": "Python 3 (ipykernel)",
   "language": "python",
   "name": "python3"
  },
  "language_info": {
   "codemirror_mode": {
    "name": "ipython",
    "version": 3
   },
   "file_extension": ".py",
   "mimetype": "text/x-python",
   "name": "python",
   "nbconvert_exporter": "python",
   "pygments_lexer": "ipython3",
   "version": "3.9.7"
  }
 },
 "nbformat": 4,
 "nbformat_minor": 5
}
